{
 "metadata": {
  "name": "",
  "signature": "sha256:67c277abacaa6963cb1e454ad9cd7f98ff8f0c847462d28f419ca2e73b04492c"
 },
 "nbformat": 3,
 "nbformat_minor": 0,
 "worksheets": []
}